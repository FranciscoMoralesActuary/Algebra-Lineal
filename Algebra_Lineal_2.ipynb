{
  "nbformat": 4,
  "nbformat_minor": 0,
  "metadata": {
    "colab": {
      "provenance": []
    },
    "kernelspec": {
      "name": "python3",
      "display_name": "Python 3"
    },
    "language_info": {
      "name": "python"
    }
  },
  "cells": [
    {
      "cell_type": "markdown",
      "source": [
        "# Álgebra Lineal\n",
        "Calculo de Valores y Vecotres Propios en Python"
      ],
      "metadata": {
        "id": "RfLQpjePU-DF"
      }
    },
    {
      "cell_type": "code",
      "source": [
        "import numpy as l"
      ],
      "metadata": {
        "id": "j6LsE8N0f-dV"
      },
      "execution_count": null,
      "outputs": []
    },
    {
      "cell_type": "markdown",
      "source": [
        "# Sección 8.1"
      ],
      "metadata": {
        "id": "SY-cGYc9fsT-"
      }
    },
    {
      "cell_type": "code",
      "source": [
        "##6)\n",
        "##Ingresamos la matriz A\n",
        "A=l.array([[1, 0], [0, 1]])\n",
        "##Calculamos Valores y Vectores Propios con la funcion lineal.eig\n",
        "valores,vectores=l.linalg.eig(A)\n",
        "##Imprimmos los valores\n",
        "valores"
      ],
      "metadata": {
        "colab": {
          "base_uri": "https://localhost:8080/"
        },
        "id": "-SHiCaLnf7Z3",
        "outputId": "6e30c6f8-e1d0-4df3-8ede-5a311433e5b7"
      },
      "execution_count": null,
      "outputs": [
        {
          "output_type": "execute_result",
          "data": {
            "text/plain": [
              "array([1., 1.])"
            ]
          },
          "metadata": {},
          "execution_count": 4
        }
      ]
    },
    {
      "cell_type": "code",
      "source": [
        "##6)\n",
        "##Ingresamos la matriz A\n",
        "A=l.array([[-1, 0], [0, -1]])\n",
        "##Calculamos Valores y Vectores Propios con la funcion lineal.eig\n",
        "valores,vectores=l.linalg.eig(A)\n",
        "##Imprimmos los valores\n",
        "valores"
      ],
      "metadata": {
        "id": "ptTYRh14gbAD",
        "outputId": "cc85f482-7130-4dec-c8d0-f3513889198a",
        "colab": {
          "base_uri": "https://localhost:8080/"
        }
      },
      "execution_count": null,
      "outputs": [
        {
          "output_type": "execute_result",
          "data": {
            "text/plain": [
              "array([-1., -1.])"
            ]
          },
          "metadata": {},
          "execution_count": 5
        }
      ]
    },
    {
      "cell_type": "markdown",
      "source": [
        "# Sección 8.2"
      ],
      "metadata": {
        "id": "eCooeRDFfww_"
      }
    },
    {
      "cell_type": "markdown",
      "source": [
        "## Programación de Valores Propios"
      ],
      "metadata": {
        "id": "QEj-0THySe4x"
      }
    },
    {
      "cell_type": "code",
      "source": [
        "##3.a)\n",
        "##Importacion Nuestra libreria Numpy\n",
        "import numpy as l\n",
        "##Definimos una funcion para el calculo de valores y vectores propios\n",
        "def valores_propios(A):\n",
        "    ##Ocupas la funcionde Python que calcula los vectores y valores propios (linalg.eig())\n",
        "    valores_propios,vectores_propios = l.linalg.eig(A)\n",
        "    ##La funcion regresa los valores y vectores propios\n",
        "    return valores_propios\n",
        "##A es nuestra matriz\n",
        "A=l.array([[1, 2], [3, 2]])\n",
        "##Los valores y vectores los igualamos a lo calcula nuestra funcion\n",
        "valores=valores_propios(A)\n",
        "print(\"Valores Propios:\")\n",
        "print(valores)\n"
      ],
      "metadata": {
        "colab": {
          "base_uri": "https://localhost:8080/"
        },
        "id": "8p_cfv3CSoM0",
        "outputId": "8eb89925-1ec0-4c78-b1a5-7aa8bbc6444f"
      },
      "execution_count": null,
      "outputs": [
        {
          "output_type": "stream",
          "name": "stdout",
          "text": [
            "Valores Propios:\n",
            "[-1.  4.]\n"
          ]
        }
      ]
    },
    {
      "cell_type": "code",
      "source": [
        "##3.b)\n",
        "##Importacion Nuestra libreria Numpy\n",
        "import numpy as l\n",
        "##Definimos una funcion para el calculo de valores y vectores propios\n",
        "def valores_propios(A):\n",
        "    ##Ocupas la funcionde Python que calcula los vectores y valores propios (linalg.eig())\n",
        "    valores_propios,vectores_propios = l.linalg.eig(A)\n",
        "    ##La funcion regresa los valores y vectores propios\n",
        "    return valores_propios\n",
        "##A es nuestra matriz\n",
        "A=l.array([[3, 2], [-1, 0]])\n",
        "##Los valores y vectores los igualamos a lo calcula nuestra funcion\n",
        "valores=valores_propios(A)\n",
        "print(\"Valores Propios:\")\n",
        "print(valores)"
      ],
      "metadata": {
        "colab": {
          "base_uri": "https://localhost:8080/"
        },
        "outputId": "7b39c9b5-6f06-4d44-ce3e-ded66bf38cc9",
        "id": "C2p28NL3X6k5"
      },
      "execution_count": null,
      "outputs": [
        {
          "output_type": "stream",
          "name": "stdout",
          "text": [
            "Valores Propios:\n",
            "[2. 1.]\n"
          ]
        }
      ]
    },
    {
      "cell_type": "code",
      "source": [
        "##3.c)\n",
        "##Importacion Nuestra libreria Numpy\n",
        "import numpy as l\n",
        "##Definimos una funcion para el calculo de valores y vectores propios\n",
        "def valores_propios(A):\n",
        "    ##Ocupas la funcionde Python que calcula los vectores y valores propios (linalg.eig())\n",
        "    valores_propios,vectores_propios = l.linalg.eig(A)\n",
        "    ##La funcion regresa los valores y vectores propios\n",
        "    return valores_propios\n",
        "##A es nuestra matriz\n",
        "A=l.array([[-2, -7], [1, 2]])\n",
        "##Los valores y vectores los igualamos a lo calcula nuestra funcion\n",
        "valores=valores_propios(A)\n",
        "print(\"Valores Propios:\")\n",
        "print(valores)\n",
        "##j=i representa la parte imaginaria\n",
        "##e^{-16} se aproxima a 0\n",
        "##1.73 se aproxima a \\sqrt{3}"
      ],
      "metadata": {
        "colab": {
          "base_uri": "https://localhost:8080/"
        },
        "outputId": "9a03f094-b5f3-4a89-8d3a-2a36a65b8d65",
        "id": "RRspsJZCX7Fx"
      },
      "execution_count": null,
      "outputs": [
        {
          "output_type": "stream",
          "name": "stdout",
          "text": [
            "Valores Propios:\n",
            "[1.66533454e-16+1.73205081j 1.66533454e-16-1.73205081j]\n"
          ]
        }
      ]
    },
    {
      "cell_type": "markdown",
      "source": [
        "**Notas**\n",
        "$$j= i$$\n",
        "$$0 \\approx e^{-16}$$\n",
        "$$1.733 \\approx \\sqrt{3}$$"
      ],
      "metadata": {
        "id": "CdfMWuHDZkM9"
      }
    },
    {
      "cell_type": "code",
      "source": [
        "##3.d)\n",
        "##Importacion Nuestra libreria Numpy\n",
        "import numpy as l\n",
        "##Definimos una funcion para el calculo de valores y vectores propios\n",
        "def valores_propios(A):\n",
        "    ##Ocupas la funcionde Python que calcula los vectores y valores propios (linalg.eig())\n",
        "    valores_propios,vectores_propios = l.linalg.eig(A)\n",
        "    ##La funcion regresa los valores y vectores propios\n",
        "    return valores_propios\n",
        "##A es nuestra matriz\n",
        "A=l.array([[1, 4], [2, 3]])\n",
        "##Los valores y vectores los igualamos a lo calcula nuestra funcion\n",
        "valores=valores_propios(A)\n",
        "print(\"Valores Propios:\")\n",
        "print(valores)"
      ],
      "metadata": {
        "colab": {
          "base_uri": "https://localhost:8080/"
        },
        "outputId": "9c89fd0f-3f64-4cca-b279-0e60d8271335",
        "id": "9t3uZL0UX7NR"
      },
      "execution_count": null,
      "outputs": [
        {
          "output_type": "stream",
          "name": "stdout",
          "text": [
            "Valores Propios:\n",
            "[-1.  5.]\n"
          ]
        }
      ]
    },
    {
      "cell_type": "code",
      "source": [
        "##4.a)\n",
        "##Importacion Nuestra libreria Numpy\n",
        "import numpy as l\n",
        "##Definimos una funcion para el calculo de valores y vectores propios\n",
        "def valores_propios(A):\n",
        "    ##Ocupas la funcionde Python que calcula los vectores y valores propios (linalg.eig())\n",
        "    valores_propios,vectores_propios = l.linalg.eig(A)\n",
        "    ##La funcion regresa los valores y vectores propios\n",
        "    return valores_propios\n",
        "##A es nuestra matriz\n",
        "A=l.array([[4, 0,1], [-2, 1,0], [-2, 0,1]])\n",
        "##Los valores y vectores los igualamos a lo calcula nuestra funcion\n",
        "valores=valores_propios(A)\n",
        "print(\"Valores Propios:\")\n",
        "print(valores)"
      ],
      "metadata": {
        "colab": {
          "base_uri": "https://localhost:8080/"
        },
        "outputId": "ada5b021-ef84-4de1-cc0d-3b1082880038",
        "id": "vhALT11QX7Rp"
      },
      "execution_count": null,
      "outputs": [
        {
          "output_type": "stream",
          "name": "stdout",
          "text": [
            "Valores Propios:\n",
            "[1. 3. 2.]\n"
          ]
        }
      ]
    },
    {
      "cell_type": "code",
      "source": [
        "##4.b)\n",
        "##Importacion Nuestra libreria Numpy\n",
        "import numpy as l\n",
        "##Definimos una funcion para el calculo de valores y vectores propios\n",
        "def valores_propios(A):\n",
        "    ##Ocupas la funcionde Python que calcula los vectores y valores propios (linalg.eig())\n",
        "    valores_propios,vectores_propios = l.linalg.eig(A)\n",
        "    ##La funcion regresa los valores y vectores propios\n",
        "    return valores_propios\n",
        "##A es nuestra matriz\n",
        "A=l.array([[1, -3,3], [3, -5,3], [6, -6,4]])\n",
        "##Los valores y vectores los igualamos a lo calcula nuestra funcion\n",
        "valores=valores_propios(A)\n",
        "print(\"Valores Propios:\")\n",
        "print(valores)"
      ],
      "metadata": {
        "colab": {
          "base_uri": "https://localhost:8080/"
        },
        "outputId": "09bce050-66e5-4d6b-a200-4ef4b618a3dc",
        "id": "k9xV-hz3X7Vp"
      },
      "execution_count": null,
      "outputs": [
        {
          "output_type": "stream",
          "name": "stdout",
          "text": [
            "Valores Propios:\n",
            "[ 4.+0.00000000e+00j -2.+1.10465796e-15j -2.-1.10465796e-15j]\n"
          ]
        }
      ]
    },
    {
      "cell_type": "code",
      "source": [
        "##4.c)\n",
        "##Importacion Nuestra libreria Numpy\n",
        "import numpy as l\n",
        "##Definimos una funcion para el calculo de valores y vectores propios\n",
        "def valores_propios(A):\n",
        "    ##Ocupas la funcionde Python que calcula los vectores y valores propios (linalg.eig())\n",
        "    valores_propios,vectores_propios = l.linalg.eig(A)\n",
        "    ##La funcion regresa los valores y vectores propios\n",
        "    return valores_propios\n",
        "##A es nuestra matriz\n",
        "A=l.array([[3, 1,1], [2, 4,2], [1,1 ,3]])\n",
        "##Los valores y vectores los igualamos a lo calcula nuestra funcion\n",
        "valores=valores_propios(A)\n",
        "print(\"Valores Propios:\")\n",
        "print(valores)"
      ],
      "metadata": {
        "colab": {
          "base_uri": "https://localhost:8080/"
        },
        "outputId": "f70bdbbe-60e4-4cdc-823f-1327c50573b1",
        "id": "Qpm5uFhVX7ZC"
      },
      "execution_count": null,
      "outputs": [
        {
          "output_type": "stream",
          "name": "stdout",
          "text": [
            "Valores Propios:\n",
            "[2. 6. 2.]\n"
          ]
        }
      ]
    },
    {
      "cell_type": "code",
      "source": [
        "##4.d)\n",
        "##Importacion Nuestra libreria Numpy\n",
        "import numpy as l\n",
        "##Definimos una funcion para el calculo de valores y vectores propios\n",
        "def valores_propios(A):\n",
        "    ##Ocupas la funcionde Python que calcula los vectores y valores propios (linalg.eig())\n",
        "    valores_propios,vectores_propios = l.linalg.eig(A)\n",
        "    ##La funcion regresa los valores y vectores propios\n",
        "    return valores_propios\n",
        "##A es nuestra matriz\n",
        "A=l.array([[1, 2,2], [1, 2,-1], [-1, 1,4]])\n",
        "##Los valores y vectores los igualamos a lo calcula nuestra funcion\n",
        "valores=valores_propios(A)\n",
        "print(\"Valores Propios:\")\n",
        "print(valores)"
      ],
      "metadata": {
        "colab": {
          "base_uri": "https://localhost:8080/"
        },
        "outputId": "647a0129-94ca-41a4-af02-1f6d9c1da864",
        "id": "8lf4Bv5EX7cx"
      },
      "execution_count": null,
      "outputs": [
        {
          "output_type": "stream",
          "name": "stdout",
          "text": [
            "Valores Propios:\n",
            "[1.+0.00000000e+00j 3.+5.15692414e-16j 3.-5.15692414e-16j]\n"
          ]
        }
      ]
    },
    {
      "cell_type": "code",
      "source": [
        "##5.a)\n",
        "##Importacion Nuestra libreria Numpy\n",
        "import numpy as l\n",
        "##Definimos una funcion para el calculo de valores y vectores propios\n",
        "def valores_propios(A):\n",
        "    ##Ocupas la funcionde Python que calcula los vectores y valores propios (linalg.eig())\n",
        "    valores_propios,vectores_propios = l.linalg.eig(A)\n",
        "    ##La funcion regresa los valores y vectores propios\n",
        "    return valores_propios\n",
        "##A es nuestra matriz\n",
        "A=l.array([[2, -1], [1, 0]])\n",
        "##Los valores y vectores los igualamos a lo calcula nuestra funcion\n",
        "valores=valores_propios(A)\n",
        "print(\"Valores Propios:\")\n",
        "print(valores)"
      ],
      "metadata": {
        "colab": {
          "base_uri": "https://localhost:8080/"
        },
        "outputId": "0d9690f3-7d79-4d8d-d4a9-a5d4737f0d43",
        "id": "_W6RecnhX7hJ"
      },
      "execution_count": null,
      "outputs": [
        {
          "output_type": "stream",
          "name": "stdout",
          "text": [
            "Valores Propios:\n",
            "[1. 1.]\n"
          ]
        }
      ]
    },
    {
      "cell_type": "code",
      "source": [
        "##5.b)\n",
        "##Importacion Nuestra libreria Numpy\n",
        "import numpy as l\n",
        "##Definimos una funcion para el calculo de valores y vectores propios\n",
        "def valores_propios(A):\n",
        "    ##Ocupas la funcionde Python que calcula los vectores y valores propios (linalg.eig())\n",
        "    valores_propios,vectores_propios = l.linalg.eig(A)\n",
        "    ##La funcion regresa los valores y vectores propios\n",
        "    return valores_propios\n",
        "##A es nuestra matriz\n",
        "A=l.array([[1,1], [0, 1]])\n",
        "##Los valores y vectores los igualamos a lo calcula nuestra funcion\n",
        "valores=valores_propios(A)\n",
        "print(\"Valores Propios:\")\n",
        "print(valores)"
      ],
      "metadata": {
        "colab": {
          "base_uri": "https://localhost:8080/"
        },
        "outputId": "dd8d7c54-786d-4d20-ece9-88e6beaf435d",
        "id": "NflmSRyzX7mJ"
      },
      "execution_count": null,
      "outputs": [
        {
          "output_type": "stream",
          "name": "stdout",
          "text": [
            "Valores Propios:\n",
            "[1. 1.]\n"
          ]
        }
      ]
    },
    {
      "cell_type": "code",
      "source": [
        "##5.c)\n",
        "##Importacion Nuestra libreria Numpy\n",
        "import numpy as l\n",
        "##Definimos una funcion para el calculo de valores y vectores propios\n",
        "def valores_propios(A):\n",
        "    ##Ocupas la funcionde Python que calcula los vectores y valores propios (linalg.eig())\n",
        "    valores_propios,vectores_propios = l.linalg.eig(A)\n",
        "    ##La funcion regresa los valores y vectores propios\n",
        "    return valores_propios\n",
        "##A es nuestra matriz\n",
        "A=l.array([[2, 0], [1, 2]])\n",
        "##Los valores y vectores los igualamos a lo calcula nuestra funcion\n",
        "valores=valores_propios(A)\n",
        "print(\"Valores Propios:\")\n",
        "print(valores)"
      ],
      "metadata": {
        "colab": {
          "base_uri": "https://localhost:8080/"
        },
        "outputId": "e3b0f8c9-53c6-4d50-caf4-cb8c9449dda5",
        "id": "-0f6QZ7qX7rB"
      },
      "execution_count": null,
      "outputs": [
        {
          "output_type": "stream",
          "name": "stdout",
          "text": [
            "Valores Propios:\n",
            "[2. 2.]\n"
          ]
        }
      ]
    },
    {
      "cell_type": "code",
      "source": [
        "##5.d)\n",
        "##Importacion Nuestra libreria Numpy\n",
        "import numpy as l\n",
        "##Definimos una funcion para el calculo de valores y vectores propios\n",
        "def valores_propios(A):\n",
        "    ##Ocupas la funcionde Python que calcula los vectores y valores propios (linalg.eig())\n",
        "    valores_propios,vectores_propios = l.linalg.eig(A)\n",
        "    ##La funcion regresa los valores y vectores propios\n",
        "    return valores_propios\n",
        "##A es nuestra matriz\n",
        "A=l.array([[2, -3], [1, -1]])\n",
        "##Los valores y vectores los igualamos a lo calcula nuestra funcion\n",
        "valores=valores_propios(A)\n",
        "print(\"Valores Propios:\")\n",
        "print(valores)"
      ],
      "metadata": {
        "colab": {
          "base_uri": "https://localhost:8080/"
        },
        "outputId": "dde6b891-4c8d-459c-f5f7-ca579d159a44",
        "id": "CKshY7WmX7xx"
      },
      "execution_count": null,
      "outputs": [
        {
          "output_type": "stream",
          "name": "stdout",
          "text": [
            "Valores Propios:\n",
            "[0.5+0.8660254j 0.5-0.8660254j]\n"
          ]
        }
      ]
    },
    {
      "cell_type": "code",
      "source": [
        "##6.a)\n",
        "##Importacion Nuestra libreria Numpy\n",
        "import numpy as l\n",
        "##Definimos una funcion para el calculo de valores y vectores propios\n",
        "def valores_propios(A):\n",
        "    ##Ocupas la funcionde Python que calcula los vectores y valores propios (linalg.eig())\n",
        "    valores_propios,vectores_propios = l.linalg.eig(A)\n",
        "    ##La funcion regresa los valores y vectores propios\n",
        "    return valores_propios\n",
        "##A es nuestra matriz\n",
        "A=l.array([[1, 1,1], [0,1, 1],[0,0, 1]])\n",
        "##Los valores y vectores los igualamos a lo calcula nuestra funcion\n",
        "valores=valores_propios(A)\n",
        "print(\"Valores Propios:\")\n",
        "print(valores)"
      ],
      "metadata": {
        "colab": {
          "base_uri": "https://localhost:8080/"
        },
        "id": "37pJ4u1i0Pf_",
        "outputId": "f945fb93-a290-4240-e3f7-996b71196f67"
      },
      "execution_count": null,
      "outputs": [
        {
          "output_type": "stream",
          "name": "stdout",
          "text": [
            "Valores Propios:\n",
            "[1. 1. 1.]\n"
          ]
        }
      ]
    },
    {
      "cell_type": "code",
      "source": [
        "##6.b)\n",
        "##Importacion Nuestra libreria Numpy\n",
        "import numpy as l\n",
        "##Definimos una funcion para el calculo de valores y vectores propios\n",
        "def valores_propios(A):\n",
        "    ##Ocupas la funcionde Python que calcula los vectores y valores propios (linalg.eig())\n",
        "    valores_propios,vectores_propios = l.linalg.eig(A)\n",
        "    ##La funcion regresa los valores y vectores propios\n",
        "    return valores_propios\n",
        "##A es nuestra matriz\n",
        "A=l.array([[1, 1,0], [0,1, 1],[0,0, 1]])\n",
        "##Los valores y vectores los igualamos a lo calcula nuestra funcion\n",
        "valores=valores_propios(A)\n",
        "print(\"Valores Propios:\")\n",
        "print(valores)"
      ],
      "metadata": {
        "colab": {
          "base_uri": "https://localhost:8080/"
        },
        "id": "qrasQZ801jeL",
        "outputId": "48953a94-b0be-4fb5-a829-d9b903bcacd9"
      },
      "execution_count": null,
      "outputs": [
        {
          "output_type": "stream",
          "name": "stdout",
          "text": [
            "Valores Propios:\n",
            "[1. 1. 1.]\n"
          ]
        }
      ]
    },
    {
      "cell_type": "markdown",
      "source": [
        "## Ejercicio 7"
      ],
      "metadata": {
        "id": "LJz7vdj6965B"
      }
    },
    {
      "cell_type": "code",
      "source": [
        "##7.a)\n",
        "##Importacion Nuestra libreria Numpy\n",
        "import numpy as l\n",
        "##Definimos una funcion para el calculo de valores y vectores propios\n",
        "def valores_propios(A):\n",
        "    ##Ocupas la funcionde Python que calcula los vectores y valores propios (linalg.eig())\n",
        "    valores_propios,vectores_propios = l.linalg.eig(A)\n",
        "    ##La funcion regresa los valores y vectores propios\n",
        "    return valores_propios\n",
        "##A es nuestra matriz\n",
        "A=l.array([[0,1, 0,0], [0,0, 1,0],[0,0,0, 1],[1,0,0,0]])\n",
        "##Los valores y vectores los igualamos a lo calcula nuestra funcion\n",
        "valores=valores_propios(A)\n",
        "print(\"Valores Propios:\")\n",
        "print(valores)"
      ],
      "metadata": {
        "colab": {
          "base_uri": "https://localhost:8080/"
        },
        "id": "uIS9GGAV950m",
        "outputId": "cca135f8-2d7d-4d7b-a4b8-06b01761aae6"
      },
      "execution_count": null,
      "outputs": [
        {
          "output_type": "stream",
          "name": "stdout",
          "text": [
            "Valores Propios:\n",
            "[-1.00000000e+00+0.j  8.32667268e-17+1.j  8.32667268e-17-1.j\n",
            "  1.00000000e+00+0.j]\n"
          ]
        }
      ]
    },
    {
      "cell_type": "markdown",
      "source": [
        "Nota\n",
        "$$\n",
        "8.3266e^{-17}+1j=i\n",
        "$$\n",
        "$$\n",
        "8.3266e^{-17}-1j=-i\n",
        "$$"
      ],
      "metadata": {
        "id": "lKMgkdYLHg0M"
      }
    },
    {
      "cell_type": "code",
      "source": [
        "##7.b)\n",
        "##Importacion Nuestra libreria Numpy\n",
        "import numpy as l\n",
        "##Definimos una funcion para el calculo de valores y vectores propios\n",
        "def valores_propios(A):\n",
        "    ##Ocupas la funcionde Python que calcula los vectores y valores propios (linalg.eig())\n",
        "    valores_propios,vectores_propios = l.linalg.eig(A)\n",
        "    ##La funcion regresa los valores y vectores propios\n",
        "    return valores_propios\n",
        "##A es nuestra matriz\n",
        "A=l.array([ [-1, 0,1],[-1,3, 0],[-4,13,-1]])\n",
        "##Los valores y vectores los igualamos a lo calcula nuestra funcion\n",
        "valores=valores_propios(A)\n",
        "print(\"Valores Propios:\")\n",
        "print(valores)"
      ],
      "metadata": {
        "colab": {
          "base_uri": "https://localhost:8080/"
        },
        "id": "zUVYcCgf96An",
        "outputId": "d780bc93-79f3-4fa5-ae77-6dfec35efe75"
      },
      "execution_count": null,
      "outputs": [
        {
          "output_type": "stream",
          "name": "stdout",
          "text": [
            "Valores Propios:\n",
            "[ 2. +0.j        -0.5+0.8660254j -0.5-0.8660254j]\n"
          ]
        }
      ]
    },
    {
      "cell_type": "markdown",
      "source": [
        "Nota\n",
        "$$\n",
        "0.8660j=\\frac{\\sqrt{3}}{2}i\n",
        "$$\n",
        "$$\n",
        "-0.8660j=-\\frac{\\sqrt{3}}{2}i\n",
        "$$"
      ],
      "metadata": {
        "id": "8-3B0q7MH6nB"
      }
    },
    {
      "cell_type": "markdown",
      "source": [
        "## Ejercicio 8"
      ],
      "metadata": {
        "id": "5uWEMcMH9_1f"
      }
    },
    {
      "cell_type": "code",
      "source": [
        "##8.a)\n",
        "##Importacion Nuestra libreria Numpy\n",
        "import numpy as l\n",
        "##Definimos una funcion para el calculo de valores y vectores propios\n",
        "def valores_propios(A):\n",
        "    ##Ocupas la funcionde Python que calcula los vectores y valores propios (linalg.eig())\n",
        "    valores_propios,vectores_propios = l.linalg.eig(A)\n",
        "    ##La funcion regresa los valores y vectores propios\n",
        "    return valores_propios\n",
        "##A es nuestra matriz\n",
        "A=l.array([ [2,4],[5,3]])\n",
        "##Los valores y vectores los igualamos a lo calcula nuestra funcion\n",
        "valores=valores_propios(A)\n",
        "print(\"Valores Propios:\")\n",
        "print(valores)"
      ],
      "metadata": {
        "colab": {
          "base_uri": "https://localhost:8080/"
        },
        "id": "PtTMSw6596Io",
        "outputId": "4e295024-8335-446f-ca99-2adf6f3fa8b7"
      },
      "execution_count": null,
      "outputs": [
        {
          "output_type": "stream",
          "name": "stdout",
          "text": [
            "Valores Propios:\n",
            "[-2.  7.]\n"
          ]
        }
      ]
    },
    {
      "cell_type": "code",
      "source": [
        "##8.b)\n",
        "##Importacion Nuestra libreria Numpy\n",
        "import numpy as l\n",
        "##Definimos una funcion para el calculo de valores y vectores propios\n",
        "def valores_propios(A):\n",
        "    ##Ocupas la funcionde Python que calcula los vectores y valores propios (linalg.eig())\n",
        "    valores_propios,vectores_propios = l.linalg.eig(A)\n",
        "    ##La funcion regresa los valores y vectores propios\n",
        "    return valores_propios\n",
        "##A es nuestra matriz\n",
        "A=l.array([ [1,2],[2,-2]])\n",
        "##Los valores y vectores los igualamos a lo calcula nuestra funcion\n",
        "valores=valores_propios(A)\n",
        "print(\"Valores Propios:\")\n",
        "print(valores)"
      ],
      "metadata": {
        "colab": {
          "base_uri": "https://localhost:8080/"
        },
        "id": "Z8OAAKmj96Od",
        "outputId": "a8bee4bb-f742-4761-f469-7b35ec6632b2"
      },
      "execution_count": null,
      "outputs": [
        {
          "output_type": "stream",
          "name": "stdout",
          "text": [
            "Valores Propios:\n",
            "[ 2. -3.]\n"
          ]
        }
      ]
    },
    {
      "cell_type": "code",
      "source": [
        "##8.c)\n",
        "##Importacion Nuestra libreria Numpy\n",
        "import numpy as l\n",
        "##Definimos una funcion para el calculo de valores y vectores propios\n",
        "def valores_propios(A):\n",
        "    ##Ocupas la funcionde Python que calcula los vectores y valores propios (linalg.eig())\n",
        "    valores_propios,vectores_propios = l.linalg.eig(A)\n",
        "    ##La funcion regresa los valores y vectores propios\n",
        "    return valores_propios\n",
        "##A es nuestra matriz\n",
        "A=l.array([ [3,2],[-2,3]])\n",
        "##Los valores y vectores los igualamos a lo calcula nuestra funcion\n",
        "valores=valores_propios(A)\n",
        "print(\"Valores Propios:\")\n",
        "print(valores)"
      ],
      "metadata": {
        "colab": {
          "base_uri": "https://localhost:8080/"
        },
        "id": "ANny4AEg96U4",
        "outputId": "1e7a4754-c42f-44a7-ba12-d125101568c9"
      },
      "execution_count": null,
      "outputs": [
        {
          "output_type": "stream",
          "name": "stdout",
          "text": [
            "Valores Propios:\n",
            "[3.+2.j 3.-2.j]\n"
          ]
        }
      ]
    },
    {
      "cell_type": "code",
      "source": [
        "##8.d)\n",
        "##Importacion Nuestra libreria Numpy\n",
        "import numpy as l\n",
        "##Definimos una funcion para el calculo de valores y vectores propios\n",
        "def valores_propios(A):\n",
        "    ##Ocupas la funcionde Python que calcula los vectores y valores propios (linalg.eig())\n",
        "    valores_propios,vectores_propios = l.linalg.eig(A)\n",
        "    ##La funcion regresa los valores y vectores propios\n",
        "    return valores_propios\n",
        "##A es nuestra matriz\n",
        "A=l.array([ [-1,2,2],[2,2,2],[-3,-6,-6]])\n",
        "##Los valores y vectores los igualamos a lo calcula nuestra funcion\n",
        "valores=valores_propios(A)\n",
        "print(\"Valores Propios:\")\n",
        "print(valores)"
      ],
      "metadata": {
        "colab": {
          "base_uri": "https://localhost:8080/"
        },
        "id": "xtLLhvtv96eV",
        "outputId": "40af9bb2-ac55-4376-bf93-dfdb51d13122"
      },
      "execution_count": null,
      "outputs": [
        {
          "output_type": "stream",
          "name": "stdout",
          "text": [
            "Valores Propios:\n",
            "[-2.22044605e-15 -2.00000000e+00 -3.00000000e+00]\n"
          ]
        }
      ]
    },
    {
      "cell_type": "markdown",
      "source": [
        "Nota\n",
        "$$\n",
        "-2.22e^{-15}\\approx 0\n",
        "$$"
      ],
      "metadata": {
        "id": "siLaXkvVA-CF"
      }
    },
    {
      "cell_type": "code",
      "source": [
        "##8.e)\n",
        "##Importacion Nuestra libreria Numpy\n",
        "import numpy as l\n",
        "##Definimos una funcion para el calculo de valores y vectores propios\n",
        "def valores_propios(A):\n",
        "    ##Ocupas la funcionde Python que calcula los vectores y valores propios (linalg.eig())\n",
        "    valores_propios,vectores_propios = l.linalg.eig(A)\n",
        "    ##La funcion regresa los valores y vectores propios\n",
        "    return valores_propios\n",
        "##A es nuestra matriz\n",
        "A=l.array([ [3,2,1],[0,1,2],[0,1,-1]])\n",
        "##Los valores y vectores los igualamos a lo calcula nuestra funcion\n",
        "valores=valores_propios(A)\n",
        "print(\"Valores Propios:\")\n",
        "print(valores)"
      ],
      "metadata": {
        "colab": {
          "base_uri": "https://localhost:8080/"
        },
        "id": "OAZxjmUwA9Z-",
        "outputId": "c48d419a-2f54-48a4-ba10-b4de16e24729"
      },
      "execution_count": null,
      "outputs": [
        {
          "output_type": "stream",
          "name": "stdout",
          "text": [
            "Valores Propios:\n",
            "[ 3.          1.73205081 -1.73205081]\n"
          ]
        }
      ]
    },
    {
      "cell_type": "markdown",
      "source": [
        "Nota\n",
        "$$\n",
        "\\sqrt{3} \\approx 1.7320\n",
        "$$\n",
        "$$\n",
        "-\\sqrt{3} \\approx -1.7320\n",
        "$$"
      ],
      "metadata": {
        "id": "Y8oKx6jqBPyu"
      }
    },
    {
      "cell_type": "code",
      "source": [
        "##8.f)\n",
        "##Importacion Nuestra libreria Numpy\n",
        "import numpy as l\n",
        "##Definimos una funcion para el calculo de valores y vectores propios\n",
        "def valores_propios(A):\n",
        "    ##Ocupas la funcionde Python que calcula los vectores y valores propios (linalg.eig())\n",
        "    valores_propios,vectores_propios = l.linalg.eig(A)\n",
        "    ##La funcion regresa los valores y vectores propios\n",
        "    return valores_propios\n",
        "##A es nuestra matriz\n",
        "A=l.array([ [-1,4,-2],[-3,4,0],[-3,1,3]])\n",
        "##Los valores y vectores los igualamos a lo calcula nuestra funcion\n",
        "valores=valores_propios(A)\n",
        "print(\"Valores Propios:\")\n",
        "print(valores)"
      ],
      "metadata": {
        "colab": {
          "base_uri": "https://localhost:8080/"
        },
        "id": "G_Eu_4yNBeG2",
        "outputId": "c68eb107-3c65-4f83-a5db-6d28248885d6"
      },
      "execution_count": null,
      "outputs": [
        {
          "output_type": "stream",
          "name": "stdout",
          "text": [
            "Valores Propios:\n",
            "[1. 2. 3.]\n"
          ]
        }
      ]
    },
    {
      "cell_type": "markdown",
      "source": [
        "## Programación de Vectores Propios"
      ],
      "metadata": {
        "id": "oLMSYbB0Sofr"
      }
    },
    {
      "cell_type": "code",
      "source": [
        "##Ejercicio 3.5 a)\n",
        "##Ingresamos la matriz A\n",
        "A=l.array([[1, 2], [3, 2]])\n",
        "##Ingresamos el vector propio obtenido para \\lambda1\n",
        "v1=l.array([[1], [3/2]])\n",
        "##Ingresamos el vector propio obtenido para \\lambda2\n",
        "v2=l.array([[1], [ -1]])\n",
        "##Ingresamos los valores propios\n",
        "t1=4\n",
        "t2=-1\n",
        "##Multiplicacion la matriz por su vector propio 1\n",
        "Av1=l.dot(A,v1)\n",
        "##Multiplicacion la matriz por su vector propio 2\n",
        "Av2=l.dot(A,v2)\n",
        "##Mulplicamos el vector por su valor propio\n",
        "t1v1=v1*t1\n",
        "##Mulplicamos el vector por su valor propio\n",
        "t2v2=v2*t2\n",
        "##Escribimos la condicio para que nos diga si el resultados es correto\n",
        "if l.all(Av1==t1v1):\n",
        "  print(\"Tu resultado es correcto para v1\")\n",
        "else:\n",
        "  print(\"Tu resultado es incorrecto para v1\")\n",
        "if l.all(Av2==t2v2):\n",
        "  print(\"Tu resultado es correcto para v2\")\n",
        "else:\n",
        "  print(\"Tu resultado es incorrecto para v2\")"
      ],
      "metadata": {
        "colab": {
          "base_uri": "https://localhost:8080/"
        },
        "id": "N8Y-pj96gaOU",
        "outputId": "66876afa-fc6e-4c19-fad4-db2dacfd7b6d"
      },
      "execution_count": null,
      "outputs": [
        {
          "output_type": "stream",
          "name": "stdout",
          "text": [
            "Tu resultado es correcto para v1\n",
            "Tu resultado es correcto para v2\n"
          ]
        }
      ]
    },
    {
      "cell_type": "code",
      "source": [
        "##Ejercicio 3.5 a)\n",
        "##Ingresamos la matriz A\n",
        "A=l.array([[3, 2], [-1, 0]])\n",
        "##Ingresamos el vector propio obtenido para \\lambda1\n",
        "v1=l.array([[1], [-1/2]])\n",
        "##Ingresamos el vector propio obtenido para \\lambda2\n",
        "v2=l.array([[1], [ -1]])\n",
        "##Ingresamos los valores propios\n",
        "t1=2\n",
        "t2=1\n",
        "##Multiplicacion la matriz por su vector propio 1\n",
        "Av1=l.dot(A,v1)\n",
        "##Multiplicacion la matriz por su vector propio 2\n",
        "Av2=l.dot(A,v2)\n",
        "##Mulplicamos el vector por su valor propio\n",
        "t1v1=v1*t1\n",
        "##Mulplicamos el vector por su valor propio\n",
        "t2v2=v2*t2\n",
        "##Escribimos la condicio para que nos diga si el resultados es correto\n",
        "if l.all(Av1==t1v1):\n",
        "  print(\"Tu resultado es correcto para v1\")\n",
        "else:\n",
        "  print(\"Tu resultado es incorrecto para v1\")\n",
        "if l.all(Av2==t2v2):\n",
        "  print(\"Tu resultado es correcto para v2\")\n",
        "else:\n",
        "  print(\"Tu resultado es incorrecto para v2\")"
      ],
      "metadata": {
        "colab": {
          "base_uri": "https://localhost:8080/"
        },
        "id": "l6NPlz0Kkf6i",
        "outputId": "7b04cf2f-4e3c-4d91-9edf-b8f594868daf"
      },
      "execution_count": null,
      "outputs": [
        {
          "output_type": "stream",
          "name": "stdout",
          "text": [
            "Tu resultado es correcto para v1\n",
            "Tu resultado es correcto para v2\n"
          ]
        }
      ]
    },
    {
      "cell_type": "code",
      "source": [
        "##Ejercicio 3.5 b)\n",
        "##Ingresamos la matriz A\n",
        "A=l.array([[3, 2], [-1, 0]])\n",
        "##Ingresamos el vector propio obtenido para \\lambda1\n",
        "v1=l.array([[1], [-1/2]])\n",
        "##Ingresamos el vector propio obtenido para \\lambda2\n",
        "v2=l.array([[1], [ -1]])\n",
        "##Ingresamos los valores propios\n",
        "t1=2\n",
        "t2=1\n",
        "##Multiplicacion la matriz por su vector propio 1\n",
        "Av1=l.dot(A,v1)\n",
        "##Multiplicacion la matriz por su vector propio 2\n",
        "Av2=l.dot(A,v2)\n",
        "##Mulplicamos el vector por su valor propio\n",
        "t1v1=v1*t1\n",
        "##Mulplicamos el vector por su valor propio\n",
        "t2v2=v2*t2\n",
        "##Escribimos la condicio para que nos diga si el resultados es correto\n",
        "if l.all(Av1==t1v1):\n",
        "  print(\"Tu resultado es correcto para v1\")\n",
        "else:\n",
        "  print(\"Tu resultado es incorrecto para v1\")\n",
        "if l.all(Av2==t2v2):\n",
        "  print(\"Tu resultado es correcto para v2\")\n",
        "else:\n",
        "  print(\"Tu resultado es incorrecto para v2\")"
      ],
      "metadata": {
        "colab": {
          "base_uri": "https://localhost:8080/"
        },
        "id": "1K85wow-BKmO",
        "outputId": "34eb496b-30aa-465a-8e25-20f55306bb90"
      },
      "execution_count": null,
      "outputs": [
        {
          "output_type": "stream",
          "name": "stdout",
          "text": [
            "Tu resultado es correcto para v1\n",
            "Tu resultado es correcto para v2\n"
          ]
        }
      ]
    },
    {
      "cell_type": "markdown",
      "source": [
        "**Notas**\n",
        "$$j= i$$\n",
        "$$0 \\approx e^{-16}$$\n",
        "$$1.733 \\approx \\sqrt{3}$$"
      ],
      "metadata": {
        "id": "SvrpJrfQBilR"
      }
    },
    {
      "cell_type": "code",
      "source": [
        "##Ejercicio 3.5 c)\n",
        "##Ingresamos la matriz A\n",
        "A=l.array([[-2, -7], [1, 2]])\n",
        "##Ingresamos el vector propio obtenido para \\lambda1\n",
        "v1=l.array([[1], [1/(1.733j-2)]])\n",
        "##Ingresamos el vector propio obtenido para \\lambda2\n",
        "v2=l.array([[1], [1/(-1.733j+2)]])\n",
        "##Ingresamos los valores propios\n",
        "t1=1.733j\n",
        "t2=1.733j\n",
        "##Multiplicacion la matriz por su vector propio 1\n",
        "Av1=l.dot(A,v1)\n",
        "##Multiplicacion la matriz por su vector propio 2\n",
        "Av2=l.dot(A,v2)\n",
        "##Mulplicamos el vector por su valor propio\n",
        "t1v1=v1*t1\n",
        "##Mulplicamos el vector por su valor propio\n",
        "t2v2=v2*t2\n",
        "##Escribimos la condicio para que nos diga si el resultados es correto\n",
        "if l.all(Av1==t1v1):\n",
        "  print(\"Tu resultado es correcto para v1\")\n",
        "else:\n",
        "  print(\"Tu resultado es incorrecto para v1\")\n",
        "if l.all(Av2==t2v2):\n",
        "  print(\"Tu resultado es correcto para v2\")\n",
        "else:\n",
        "  print(\"Tu resultado es incorrecto para v2\")"
      ],
      "metadata": {
        "colab": {
          "base_uri": "https://localhost:8080/"
        },
        "id": "OW56iD48BP9r",
        "outputId": "079aeb56-638e-4fc2-8d79-5ef8cbe886fe"
      },
      "execution_count": null,
      "outputs": [
        {
          "output_type": "stream",
          "name": "stdout",
          "text": [
            "Tu resultado es incorrecto para v1\n",
            "Tu resultado es incorrecto para v2\n"
          ]
        }
      ]
    },
    {
      "cell_type": "code",
      "source": [
        "##Ejercicio 3.5 d)\n",
        "##Ingresamos la matriz A\n",
        "A=l.array([[2, -3], [1, -1]])\n",
        "##Ingresamos el vector propio obtenido para \\lambda1\n",
        "v1=l.array([[(3/2+1.733/2j)], [1]])\n",
        "##Ingresamos el vector propio obtenido para \\lambda2\n",
        "v2=l.array([[(3/2-1.733/2j)], [1]])\n",
        "##Ingresamos los valores propios\n",
        "t1=(1/2+1.733/2j)\n",
        "t2=-(1/2-1.733/2j)\n",
        "##Multiplicacion la matriz por su vector propio 1\n",
        "Av1=l.dot(A,v1)\n",
        "##Multiplicacion la matriz por su vector propio 2\n",
        "Av2=l.dot(A,v2)\n",
        "##Mulplicamos el vector por su valor propio\n",
        "t1v1=v1*t1\n",
        "##Mulplicamos el vector por su valor propio\n",
        "t2v2=v2*t2\n",
        "##Escribimos la condicio para que nos diga si el resultados es correto\n",
        "if l.all(Av1==t1v1):\n",
        "  print(\"Tu resultado es correcto para v1\")\n",
        "else:\n",
        "  print(\"Tu resultado es incorrecto para v1\")\n",
        "if l.all(Av2==t2v2):\n",
        "  print(\"Tu resultado es correcto para v2\")\n",
        "else:\n",
        "  print(\"Tu resultado es incorrecto para v2\")"
      ],
      "metadata": {
        "colab": {
          "base_uri": "https://localhost:8080/"
        },
        "id": "VAbyBPV2B9zn",
        "outputId": "bad1aaf6-65de-4a80-bd32-3f32452377e6"
      },
      "execution_count": null,
      "outputs": [
        {
          "output_type": "stream",
          "name": "stdout",
          "text": [
            "Tu resultado es incorrecto para v1\n",
            "Tu resultado es incorrecto para v2\n"
          ]
        }
      ]
    },
    {
      "cell_type": "markdown",
      "source": [
        "## Ejercicio 4"
      ],
      "metadata": {
        "id": "ugEwbUE9OeRs"
      }
    },
    {
      "cell_type": "code",
      "source": [
        "##Ejercicio 4.a)\n",
        "##Ingresamos la matriz A\n",
        "A=l.array([[4, 0,1], [-2,1, 0],[-2,0, 1]])\n",
        "##Ingresamos el vector propio obtenido para \\lambda1\n",
        "v1=l.array([[0], [1],[0]])\n",
        "##Ingresamos el vector propio obtenido para \\lambda2\n",
        "v2=l.array([[1], [-2],[-2]])\n",
        "##Ingresamos el vector propio obtenido para \\lambda3\n",
        "v3=l.array([[1], [-1],[-1]])\n",
        "##Ingresamos los valores propios\n",
        "t1=1\n",
        "t2=2\n",
        "t3=3\n",
        "##Multiplicacion la matriz por su vector propio 1\n",
        "Av1=l.dot(A,v1)\n",
        "##Multiplicacion la matriz por su vector propio 2\n",
        "Av2=l.dot(A,v2)\n",
        "##Multiplicacion la matriz por su vector propio 3\n",
        "Av3=l.dot(A,v3)\n",
        "##Mulplicamos el vector por su valor propio\n",
        "t1v1=v1*t1\n",
        "##Mulplicamos el vector por su valor propio\n",
        "t2v2=v2*t2\n",
        "##Mulplicamos el vector por su valor propio\n",
        "t3v3=v3*t3\n",
        "##Escribimos la condicio para que nos diga si el resultados es correto\n",
        "if l.all(Av1==t1v1):\n",
        "  print(\"Tu resultado es correcto para v1\")\n",
        "else:\n",
        "  print(\"Tu resultado es incorrecto para v1\")\n",
        "if l.all(Av2==t2v2):\n",
        "  print(\"Tu resultado es correcto para v2\")\n",
        "else:\n",
        "  print(\"Tu resultado es incorrecto para v2\")\n",
        "if l.all(Av3==t3v3):\n",
        "  print(\"Tu resultado es correcto para v3\")\n",
        "else:\n",
        "  print(\"Tu resultado es incorrecto para v3\")"
      ],
      "metadata": {
        "colab": {
          "base_uri": "https://localhost:8080/"
        },
        "id": "nCbA3AdwOr9C",
        "outputId": "54f8020a-094f-4693-be1a-a2c7b3c23057"
      },
      "execution_count": null,
      "outputs": [
        {
          "output_type": "stream",
          "name": "stdout",
          "text": [
            "Tu resultado es correcto para v1\n",
            "Tu resultado es correcto para v2\n",
            "Tu resultado es correcto para v3\n"
          ]
        }
      ]
    },
    {
      "cell_type": "code",
      "source": [],
      "metadata": {
        "id": "u13QuwwHRZn_"
      },
      "execution_count": null,
      "outputs": []
    },
    {
      "cell_type": "code",
      "source": [
        "##Ejercicio 4.b)\n",
        "##Ingresamos la matriz A\n",
        "A=l.array([[1, -3,3], [3,-5, 3],[6,-6, 4]])\n",
        "##Ingresamos el vector propio obtenido para \\lambda1\n",
        "v1=l.array([[1], [1],[2]])\n",
        "##Ingresamos el vector propio obtenido para \\lambda2\n",
        "v2=l.array([[1], [1],[0]])\n",
        "##Ingresamos el vector propio obtenido para \\lambda3\n",
        "v3=l.array([[1], [1],[0]])\n",
        "##Ingresamos los valores propios\n",
        "t1=4\n",
        "t2=-2\n",
        "t3=-2\n",
        "##Multiplicacion la matriz por su vector propio 1\n",
        "Av1=l.dot(A,v1)\n",
        "##Multiplicacion la matriz por su vector propio 2\n",
        "Av2=l.dot(A,v2)\n",
        "##Multiplicacion la matriz por su vector propio 3\n",
        "Av3=l.dot(A,v3)\n",
        "##Mulplicamos el vector por su valor propio\n",
        "t1v1=v1*t1\n",
        "##Mulplicamos el vector por su valor propio\n",
        "t2v2=v2*t2\n",
        "##Mulplicamos el vector por su valor propio\n",
        "t3v3=v3*t3\n",
        "##Escribimos la condicio para que nos diga si el resultados es correto\n",
        "if l.all(Av1==t1v1):\n",
        "  print(\"Tu resultado es correcto para v1\")\n",
        "else:\n",
        "  print(\"Tu resultado es incorrecto para v1\")\n",
        "if l.all(Av2==t2v2):\n",
        "  print(\"Tu resultado es correcto para v2\")\n",
        "else:\n",
        "  print(\"Tu resultado es incorrecto para v2\")\n",
        "if l.all(Av3==t3v3):\n",
        "  print(\"Tu resultado es correcto para v3\")\n",
        "else:\n",
        "  print(\"Tu resultado es incorrecto para v3\")"
      ],
      "metadata": {
        "colab": {
          "base_uri": "https://localhost:8080/"
        },
        "id": "KFN0e-WaRZxc",
        "outputId": "84e3e91e-0ae4-4581-c2b6-a6ba93143a9a"
      },
      "execution_count": null,
      "outputs": [
        {
          "output_type": "stream",
          "name": "stdout",
          "text": [
            "Tu resultado es correcto para v1\n",
            "Tu resultado es correcto para v2\n",
            "Tu resultado es correcto para v3\n"
          ]
        }
      ]
    },
    {
      "cell_type": "code",
      "source": [
        "##Ejercicio 4.c)\n",
        "##Ingresamos la matriz A\n",
        "A=l.array([[3, 1,1], [2,4, 2],[1,1, 3]])\n",
        "##Ingresamos el vector propio obtenido para \\lambda1\n",
        "v1=l.array([[-2], [1],[1]])\n",
        "##Ingresamos el vector propio obtenido para \\lambda2\n",
        "v2=l.array([[1], [2],[1]])\n",
        "##Ingresamos el vector propio obtenido para \\lambda3\n",
        "v3=l.array([[-2], [1],[1]])\n",
        "##Ingresamos los valores propios\n",
        "t1=2\n",
        "t2=6\n",
        "t3=2\n",
        "##Multiplicacion la matriz por su vector propio 1\n",
        "Av1=l.dot(A,v1)\n",
        "##Multiplicacion la matriz por su vector propio 2\n",
        "Av2=l.dot(A,v2)\n",
        "##Multiplicacion la matriz por su vector propio 3\n",
        "Av3=l.dot(A,v3)\n",
        "##Mulplicamos el vector por su valor propio\n",
        "t1v1=v1*t1\n",
        "##Mulplicamos el vector por su valor propio\n",
        "t2v2=v2*t2\n",
        "##Mulplicamos el vector por su valor propio\n",
        "t3v3=v3*t3\n",
        "##Escribimos la condicio para que nos diga si el resultados es correto\n",
        "if l.all(Av1==t1v1):\n",
        "  print(\"Tu resultado es correcto para v1\")\n",
        "else:\n",
        "  print(\"Tu resultado es incorrecto para v1\")\n",
        "if l.all(Av2==t2v2):\n",
        "  print(\"Tu resultado es correcto para v2\")\n",
        "else:\n",
        "  print(\"Tu resultado es incorrecto para v2\")\n",
        "if l.all(Av3==t3v3):\n",
        "  print(\"Tu resultado es correcto para v3\")\n",
        "else:\n",
        "  print(\"Tu resultado es incorrecto para v3\")"
      ],
      "metadata": {
        "colab": {
          "base_uri": "https://localhost:8080/"
        },
        "id": "EeI1FiPhRZ64",
        "outputId": "363f4495-ccb0-4027-aa10-c256bd2410a4"
      },
      "execution_count": null,
      "outputs": [
        {
          "output_type": "stream",
          "name": "stdout",
          "text": [
            "Tu resultado es correcto para v1\n",
            "Tu resultado es correcto para v2\n",
            "Tu resultado es correcto para v3\n"
          ]
        }
      ]
    },
    {
      "cell_type": "code",
      "source": [
        "##Ejercicio 4.d)\n",
        "##Ingresamos la matriz A\n",
        "A=l.array([[1, 2,2], [1,2, -1],[-1,1, 4]])\n",
        "##Ingresamos el vector propio obtenido para \\lambda1\n",
        "v1=l.array([[1], [0],[1]])\n",
        "##Ingresamos el vector propio obtenido para \\lambda2\n",
        "v2=l.array([[1], [0],[1]])\n",
        "##Ingresamos el vector propio obtenido para \\lambda3\n",
        "v3=l.array([[2], [-1],[1]])\n",
        "##Ingresamos los valores propios\n",
        "t1=3\n",
        "t2=3\n",
        "t3=1\n",
        "##Multiplicacion la matriz por su vector propio 1\n",
        "Av1=l.dot(A,v1)\n",
        "##Multiplicacion la matriz por su vector propio 2\n",
        "Av2=l.dot(A,v2)\n",
        "##Multiplicacion la matriz por su vector propio 3\n",
        "Av3=l.dot(A,v3)\n",
        "##Mulplicamos el vector por su valor propio\n",
        "t1v1=v1*t1\n",
        "##Mulplicamos el vector por su valor propio\n",
        "t2v2=v2*t2\n",
        "##Mulplicamos el vector por su valor propio\n",
        "t3v3=v3*t3\n",
        "##Escribimos la condicio para que nos diga si el resultados es correto\n",
        "if l.all(Av1==t1v1):\n",
        "  print(\"Tu resultado es correcto para v1\")\n",
        "else:\n",
        "  print(\"Tu resultado es incorrecto para v1\")\n",
        "if l.all(Av2==t2v2):\n",
        "  print(\"Tu resultado es correcto para v2\")\n",
        "else:\n",
        "  print(\"Tu resultado es incorrecto para v2\")\n",
        "if l.all(Av3==t3v3):\n",
        "  print(\"Tu resultado es correcto para v3\")\n",
        "else:\n",
        "  print(\"Tu resultado es incorrecto para v3\")"
      ],
      "metadata": {
        "colab": {
          "base_uri": "https://localhost:8080/"
        },
        "id": "euDAQSqHWpnP",
        "outputId": "cb2dd6bb-d0ff-4b36-9588-18752a8a83f4"
      },
      "execution_count": null,
      "outputs": [
        {
          "output_type": "stream",
          "name": "stdout",
          "text": [
            "Tu resultado es correcto para v1\n",
            "Tu resultado es correcto para v2\n",
            "Tu resultado es correcto para v3\n"
          ]
        }
      ]
    },
    {
      "cell_type": "markdown",
      "source": [
        "## Ejercicio 5"
      ],
      "metadata": {
        "id": "_2kU-Ga3OnR4"
      }
    },
    {
      "cell_type": "code",
      "source": [
        "##Ejercicio 5 a)\n",
        "##Ingresamos la matriz A\n",
        "A=l.array([[2, -1], [1, 0]])\n",
        "##Ingresamos el vector propio obtenido para \\lambda1\n",
        "v1=l.array([[1], [1]])\n",
        "##Ingresamos el vector propio obtenido para \\lambda2\n",
        "v2=l.array([[1], [ 1]])\n",
        "##Ingresamos los valores propios\n",
        "t1=1\n",
        "t2=1\n",
        "##Multiplicacion la matriz por su vector propio 1\n",
        "Av1=l.dot(A,v1)\n",
        "##Multiplicacion la matriz por su vector propio 2\n",
        "Av2=l.dot(A,v2)\n",
        "##Mulplicamos el vector por su valor propio\n",
        "t1v1=v1*t1\n",
        "##Mulplicamos el vector por su valor propio\n",
        "t2v2=v2*t2\n",
        "##Escribimos la condicio para que nos diga si el resultados es correto\n",
        "if l.all(Av1==t1v1):\n",
        "  print(\"Tu resultado es correcto para v1\")\n",
        "else:\n",
        "  print(\"Tu resultado es incorrecto para v1\")\n",
        "if l.all(Av2==t2v2):\n",
        "  print(\"Tu resultado es correcto para v2\")\n",
        "else:\n",
        "  print(\"Tu resultado es incorrecto para v2\")"
      ],
      "metadata": {
        "colab": {
          "base_uri": "https://localhost:8080/"
        },
        "id": "GvwAF6-Wk4g7",
        "outputId": "c0a6eec6-1797-490d-92d6-25f3cf7f6bd2"
      },
      "execution_count": null,
      "outputs": [
        {
          "output_type": "stream",
          "name": "stdout",
          "text": [
            "Tu resultado es correcto para v1\n",
            "Tu resultado es correcto para v2\n"
          ]
        }
      ]
    },
    {
      "cell_type": "code",
      "source": [
        "##Ejercicio 5 b)\n",
        "##Ingresamos la matriz A\n",
        "A=l.array([[1, 1], [0, 1]])\n",
        "##Ingresamos el vector propio obtenido para \\lambda1\n",
        "v1=l.array([[1], [0]])\n",
        "##Ingresamos el vector propio obtenido para \\lambda2\n",
        "v2=l.array([[1], [0]])\n",
        "##Ingresamos los valores propios\n",
        "t1=1\n",
        "t2=1\n",
        "##Multiplicacion la matriz por su vector propio 1\n",
        "Av1=l.dot(A,v1)\n",
        "##Multiplicacion la matriz por su vector propio 2\n",
        "Av2=l.dot(A,v2)\n",
        "##Mulplicamos el vector por su valor propio\n",
        "t1v1=v1*t1\n",
        "##Mulplicamos el vector por su valor propio\n",
        "t2v2=v2*t2\n",
        "##Escribimos la condicio para que nos diga si el resultados es correto\n",
        "if l.all(Av1==t1v1):\n",
        "  print(\"Tu resultado es correcto para v1\")\n",
        "else:\n",
        "  print(\"Tu resultado es incorrecto para v1\")\n",
        "if l.all(Av2==t2v2):\n",
        "  print(\"Tu resultado es correcto para v2\")\n",
        "else:\n",
        "  print(\"Tu resultado es incorrecto para v2\")"
      ],
      "metadata": {
        "colab": {
          "base_uri": "https://localhost:8080/"
        },
        "id": "zgOYvra3Cc_k",
        "outputId": "1945c61c-3ae8-4e87-ac34-b6f625afceca"
      },
      "execution_count": null,
      "outputs": [
        {
          "output_type": "stream",
          "name": "stdout",
          "text": [
            "Tu resultado es correcto para v1\n",
            "Tu resultado es correcto para v2\n"
          ]
        }
      ]
    },
    {
      "cell_type": "code",
      "source": [
        "##Ejercicio 5 c)\n",
        "##Ingresamos la matriz A\n",
        "A=l.array([[2, 0], [1, 2]])\n",
        "##Ingresamos el vector propio obtenido para \\lambda1\n",
        "v1=l.array([[0], [1]])\n",
        "##Ingresamos el vector propio obtenido para \\lambda2\n",
        "v2=l.array([[0], [1]])\n",
        "##Ingresamos los valores propios\n",
        "t1=2\n",
        "t2=2\n",
        "##Multiplicacion la matriz por su vector propio 1\n",
        "Av1=l.dot(A,v1)\n",
        "##Multiplicacion la matriz por su vector propio 2\n",
        "Av2=l.dot(A,v2)\n",
        "##Mulplicamos el vector por su valor propio\n",
        "t1v1=v1*t1\n",
        "##Mulplicamos el vector por su valor propio\n",
        "t2v2=v2*t2\n",
        "##Escribimos la condicio para que nos diga si el resultados es correto\n",
        "if l.all(Av1==t1v1):\n",
        "  print(\"Tu resultado es correcto para v1\")\n",
        "else:\n",
        "  print(\"Tu resultado es incorrecto para v1\")\n",
        "if l.all(Av2==t2v2):\n",
        "  print(\"Tu resultado es correcto para v2\")\n",
        "else:\n",
        "  print(\"Tu resultado es incorrecto para v2\")"
      ],
      "metadata": {
        "colab": {
          "base_uri": "https://localhost:8080/"
        },
        "id": "92Q7hqg8CrE6",
        "outputId": "d1d6e393-6343-43a5-e44e-9ad8db0295e4"
      },
      "execution_count": null,
      "outputs": [
        {
          "output_type": "stream",
          "name": "stdout",
          "text": [
            "Tu resultado es correcto para v1\n",
            "Tu resultado es correcto para v2\n"
          ]
        }
      ]
    },
    {
      "cell_type": "code",
      "source": [
        "##Ejercicio 6.a)\n",
        "##Ingresamos la matriz A\n",
        "A=l.array([[1, 1,1], [0,1, 1],[0,0, 1]])\n",
        "##Ingresamos el vector propio obtenido para \\lambda1\n",
        "v1=l.array([[1], [0],[0]])\n",
        "##Ingresamos el vector propio obtenido para \\lambda2\n",
        "v2=l.array([[1], [0],[0]])\n",
        "##Ingresamos el vector propio obtenido para \\lambda3\n",
        "v3=l.array([[1], [0],[0]])\n",
        "##Ingresamos los valores propios\n",
        "t1=1\n",
        "t2=1\n",
        "t3=1\n",
        "##Multiplicacion la matriz por su vector propio 1\n",
        "Av1=l.dot(A,v1)\n",
        "##Multiplicacion la matriz por su vector propio 2\n",
        "Av2=l.dot(A,v2)\n",
        "##Multiplicacion la matriz por su vector propio 3\n",
        "Av3=l.dot(A,v3)\n",
        "##Mulplicamos el vector por su valor propio\n",
        "t1v1=v1*t1\n",
        "##Mulplicamos el vector por su valor propio\n",
        "t2v2=v2*t2\n",
        "##Mulplicamos el vector por su valor propio\n",
        "t3v3=v3*t3\n",
        "##Escribimos la condicio para que nos diga si el resultados es correto\n",
        "if l.all(Av1==t1v1):\n",
        "  print(\"Tu resultado es correcto para v1\")\n",
        "else:\n",
        "  print(\"Tu resultado es incorrecto para v1\")\n",
        "if l.all(Av2==t2v2):\n",
        "  print(\"Tu resultado es correcto para v2\")\n",
        "else:\n",
        "  print(\"Tu resultado es incorrecto para v2\")\n",
        "if l.all(Av3==t3v3):\n",
        "  print(\"Tu resultado es correcto para v3\")\n",
        "else:\n",
        "  print(\"Tu resultado es incorrecto para v3\")"
      ],
      "metadata": {
        "colab": {
          "base_uri": "https://localhost:8080/"
        },
        "id": "7-FOeAQv0h5o",
        "outputId": "28301340-8b4c-48e7-b921-c861640cdf3c"
      },
      "execution_count": null,
      "outputs": [
        {
          "output_type": "stream",
          "name": "stdout",
          "text": [
            "Tu resultado es correcto para v1\n",
            "Tu resultado es correcto para v2\n",
            "Tu resultado es correcto para v3\n"
          ]
        }
      ]
    },
    {
      "cell_type": "code",
      "source": [
        "##Ejercicio 6.b)\n",
        "##Ingresamos la matriz A\n",
        "A=l.array([[1, 1,0], [0,1, 1],[0,0, 1]])\n",
        "##Ingresamos el vector propio obtenido para \\lambda1\n",
        "v1=l.array([[1], [0],[0]])\n",
        "##Ingresamos el vector propio obtenido para \\lambda2\n",
        "v2=l.array([[1], [0],[0]])\n",
        "##Ingresamos el vector propio obtenido para \\lambda3\n",
        "v3=l.array([[1], [0],[0]])\n",
        "##Ingresamos los valores propios\n",
        "t1=1\n",
        "t2=1\n",
        "t3=1\n",
        "##Multiplicacion la matriz por su vector propio 1\n",
        "Av1=l.dot(A,v1)\n",
        "##Multiplicacion la matriz por su vector propio 2\n",
        "Av2=l.dot(A,v2)\n",
        "##Multiplicacion la matriz por su vector propio 3\n",
        "Av3=l.dot(A,v3)\n",
        "##Mulplicamos el vector por su valor propio\n",
        "t1v1=v1*t1\n",
        "##Mulplicamos el vector por su valor propio\n",
        "t2v2=v2*t2\n",
        "##Mulplicamos el vector por su valor propio\n",
        "t3v3=v3*t3\n",
        "##Escribimos la condicio para que nos diga si el resultados es correto\n",
        "if l.all(Av1==t1v1):\n",
        "  print(\"Tu resultado es correcto para v1\")\n",
        "else:\n",
        "  print(\"Tu resultado es incorrecto para v1\")\n",
        "if l.all(Av2==t2v2):\n",
        "  print(\"Tu resultado es correcto para v2\")\n",
        "else:\n",
        "  print(\"Tu resultado es incorrecto para v2\")\n",
        "if l.all(Av3==t3v3):\n",
        "  print(\"Tu resultado es correcto para v3\")\n",
        "else:\n",
        "  print(\"Tu resultado es incorrecto para v3\")"
      ],
      "metadata": {
        "colab": {
          "base_uri": "https://localhost:8080/"
        },
        "id": "Vv3tt0HN1qh7",
        "outputId": "b89c1cf5-4dbd-4745-a101-37c90b78c998"
      },
      "execution_count": null,
      "outputs": [
        {
          "output_type": "stream",
          "name": "stdout",
          "text": [
            "Tu resultado es correcto para v1\n",
            "Tu resultado es correcto para v2\n",
            "Tu resultado es correcto para v3\n"
          ]
        }
      ]
    },
    {
      "cell_type": "markdown",
      "source": [
        "\n",
        "\n",
        "## Ejercicio 7"
      ],
      "metadata": {
        "id": "j0EEsN--YhPT"
      }
    },
    {
      "cell_type": "code",
      "source": [
        "##Ejercicio 7 a)\n",
        "##Ingresamos la matriz A\n",
        "A=l.array([[0, 1,0,0], [0,0,1,0],[0,0,0,1],[1,0,0,0]])\n",
        "##Ingresamos el vector propio obtenido para \\lambda1\n",
        "v1=l.array([[1], [1],[1],[1]])\n",
        "##Ingresamos el vector propio obtenido para \\lambda2\n",
        "v2=l.array([[1], [-1],[1],[-1]])\n",
        "##Ingresamos el vector propio obtenido para \\lambda3\n",
        "v3=l.array([[1], [1j],[-1],[-1j]])\n",
        "##Ingresamos el vector propio obtenido para \\lambda4\n",
        "v4=l.array([[1], [-1j],[-1],[1j]])\n",
        "##Ingresamos los valores propios\n",
        "t1=1\n",
        "t2=-1\n",
        "t3=1j\n",
        "t4=-1j\n",
        "##Multiplicacion la matriz por su vector propio 1\n",
        "Av1=l.dot(A,v1)\n",
        "##Multiplicacion la matriz por su vector propio 2\n",
        "Av2=l.dot(A,v2)\n",
        "##Multiplicacion la matriz por su vector propio 2\n",
        "Av3=l.dot(A,v3)\n",
        "##Multiplicacion la matriz por su vector propio 2\n",
        "Av4=l.dot(A,v4)\n",
        "##Mulplicamos el vector por su valor propio\n",
        "t1v1=v1*t1\n",
        "##Mulplicamos el vector por su valor propio\n",
        "t2v2=v2*t2\n",
        "##Mulplicamos el vector por su valor propio\n",
        "t3v3=v3*t3\n",
        "##Mulplicamos el vector por su valor propio\n",
        "t4v4=v4*t4\n",
        "##Escribimos la condicio para que nos diga si el resultados es correto\n",
        "if l.all(Av1==t1v1):\n",
        "  print(\"Tu resultado es correcto para v1\")\n",
        "else:\n",
        "  print(\"Tu resultado es incorrecto para v1\")\n",
        "if l.all(Av2==t2v2):\n",
        "  print(\"Tu resultado es correcto para v2\")\n",
        "else:\n",
        "  print(\"Tu resultado es incorrecto para v2\")\n",
        "if l.all(Av3==t3v3):\n",
        "  print(\"Tu resultado es correcto para v3\")\n",
        "else:\n",
        "  print(\"Tu resultado es incorrecto para v3\")\n",
        "if l.all(Av4==t4v4):\n",
        "  print(\"Tu resultado es correcto para v4\")\n",
        "else:\n",
        "  print(\"Tu resultado es incorrecto para v4\")"
      ],
      "metadata": {
        "colab": {
          "base_uri": "https://localhost:8080/"
        },
        "id": "80m_GIRJIb0u",
        "outputId": "9af178a7-6e96-4dc8-da72-043cb3d3d689"
      },
      "execution_count": null,
      "outputs": [
        {
          "output_type": "stream",
          "name": "stdout",
          "text": [
            "Tu resultado es correcto para v1\n",
            "Tu resultado es correcto para v2\n",
            "Tu resultado es correcto para v3\n",
            "Tu resultado es correcto para v4\n"
          ]
        }
      ]
    },
    {
      "cell_type": "code",
      "source": [
        "##Ejercicio 7.b)\n",
        "##Ingresamos la matriz A\n",
        "A=l.array([[-1, 0,1], [-1,3, 0],[-4,13, -1]])\n",
        "##Ingresamos el vector propio obtenido para \\lambda1\n",
        "v1=l.array([[1], [1],[3]])\n",
        "##Ingresamos el vector propio obtenido para \\lambda2\n",
        "v2=l.array([[3.5-1.7320j], [1],[4.75+5.1961j]])\n",
        "##Ingresamos el vector propio obtenido para \\lambda3\n",
        "v3=l.array([[3.5+1.7350j], [1],[4.75-5.1961j]])\n",
        "##Ingresamos los valores propios\n",
        "t1=2\n",
        "t2=-0.5+0.8660254j\n",
        "t3=-0.5-0.8660254j\n",
        "##Multiplicacion la matriz por su vector propio 1\n",
        "Av1=l.dot(A,v1)\n",
        "##Multiplicacion la matriz por su vector propio 2\n",
        "Av2=l.dot(A,v2)\n",
        "##Multiplicacion la matriz por su vector propio 3\n",
        "Av3=l.dot(A,v3)\n",
        "##Mulplicamos el vector por su valor propio\n",
        "t1v1=v1*t1\n",
        "##Mulplicamos el vector por su valor propio\n",
        "t2v2=v2*t2\n",
        "##Mulplicamos el vector por su valor propio\n",
        "t3v3=v3*t3\n",
        "##Escribimos la condicio para que nos diga si el resultados es correto\n",
        "if l.all(Av1==t1v1):\n",
        "  print(\"Tu resultado es correcto para v1\")\n",
        "else:\n",
        "  print(\"Tu resultado es incorrecto para v1\")\n",
        "if l.all(Av2==t2v2):\n",
        "  print(\"Tu resultado es correcto para v2\")\n",
        "else:\n",
        "  print(\"Tu resultado es incorrecto para v2\")\n",
        "if l.all(Av3==t3v3):\n",
        "  print(\"Tu resultado es correcto para v3\")\n",
        "else:\n",
        "  print(\"Tu resultado es incorrecto para v3\")"
      ],
      "metadata": {
        "colab": {
          "base_uri": "https://localhost:8080/"
        },
        "id": "rs904JdSKUAX",
        "outputId": "a94230bd-231f-466d-f504-cbf656e81233"
      },
      "execution_count": null,
      "outputs": [
        {
          "output_type": "stream",
          "name": "stdout",
          "text": [
            "Tu resultado es correcto para v1\n",
            "Tu resultado es incorrecto para v2\n",
            "Tu resultado es incorrecto para v3\n"
          ]
        }
      ]
    },
    {
      "cell_type": "markdown",
      "source": [
        "## Ejercicio 8"
      ],
      "metadata": {
        "id": "Ev6NTiB3EIG-"
      }
    },
    {
      "cell_type": "code",
      "source": [
        "##Ejercicio 8 a)\n",
        "##Ingresamos la matriz A\n",
        "A=l.array([[2, 4], [5, 3]])\n",
        "##Ingresamos el vector propio obtenido para \\lambda1\n",
        "v1=l.array([[4/5], [1]])\n",
        "##Ingresamos el vector propio obtenido para \\lambda2\n",
        "v2=l.array([[-1], [1]])\n",
        "##Ingresamos los valores propios\n",
        "t1=7\n",
        "t2=-2\n",
        "##Multiplicacion la matriz por su vector propio 1\n",
        "Av1=l.dot(A,v1)\n",
        "##Multiplicacion la matriz por su vector propio 2\n",
        "Av2=l.dot(A,v2)\n",
        "##Mulplicamos el vector por su valor propio\n",
        "t1v1=v1*t1\n",
        "##Mulplicamos el vector por su valor propio\n",
        "t2v2=v2*t2\n",
        "##Escribimos la condicio para que nos diga si el resultados es correto\n",
        "if l.all(Av1==t1v1):\n",
        "  print(\"Tu resultado es correcto para v1\")\n",
        "else:\n",
        "  print(\"Tu resultado es incorrecto para v1\")\n",
        "if l.all(Av2==t2v2):\n",
        "  print(\"Tu resultado es correcto para v2\")\n",
        "else:\n",
        "  print(\"Tu resultado es incorrecto para v2\")"
      ],
      "metadata": {
        "colab": {
          "base_uri": "https://localhost:8080/"
        },
        "id": "RGLcJrOCEaSM",
        "outputId": "56bca70b-514c-4672-a955-ec8b7faaa9fe"
      },
      "execution_count": null,
      "outputs": [
        {
          "output_type": "stream",
          "name": "stdout",
          "text": [
            "Tu resultado es incorrecto para v1\n",
            "Tu resultado es correcto para v2\n"
          ]
        }
      ]
    },
    {
      "cell_type": "code",
      "source": [
        "##Ejercicio 8 b)\n",
        "##Ingresamos la matriz A\n",
        "A=l.array([[1, 2], [2, -2]])\n",
        "##Ingresamos el vector propio obtenido para \\lambda1\n",
        "v1=l.array([[1], [-2]])\n",
        "##Ingresamos el vector propio obtenido para \\lambda2\n",
        "v2=l.array([[1], [1/2]])\n",
        "##Ingresamos los valores propios\n",
        "t1=-3\n",
        "t2=2\n",
        "##Multiplicacion la matriz por su vector propio 1\n",
        "Av1=l.dot(A,v1)\n",
        "##Multiplicacion la matriz por su vector propio 2\n",
        "Av2=l.dot(A,v2)\n",
        "##Mulplicamos el vector por su valor propio\n",
        "t1v1=v1*t1\n",
        "##Mulplicamos el vector por su valor propio\n",
        "t2v2=v2*t2\n",
        "##Escribimos la condicio para que nos diga si el resultados es correto\n",
        "if l.all(Av1==t1v1):\n",
        "  print(\"Tu resultado es correcto para v1\")\n",
        "else:\n",
        "  print(\"Tu resultado es incorrecto para v1\")\n",
        "if l.all(Av2==t2v2):\n",
        "  print(\"Tu resultado es correcto para v2\")\n",
        "else:\n",
        "  print(\"Tu resultado es incorrecto para v2\")"
      ],
      "metadata": {
        "colab": {
          "base_uri": "https://localhost:8080/"
        },
        "id": "k-rc3J6wEbfv",
        "outputId": "294fc23c-c282-4b88-d1ff-d994610954e2"
      },
      "execution_count": null,
      "outputs": [
        {
          "output_type": "stream",
          "name": "stdout",
          "text": [
            "Tu resultado es correcto para v1\n",
            "Tu resultado es correcto para v2\n"
          ]
        }
      ]
    },
    {
      "cell_type": "code",
      "source": [
        "##Ejercicio 8 c)\n",
        "##Ingresamos la matriz A\n",
        "A=l.array([[3, 2], [-2, 3]])\n",
        "##Ingresamos el vector propio obtenido para \\lambda1\n",
        "v1=l.array([[1], [1j]])\n",
        "##Ingresamos el vector propio obtenido para \\lambda2\n",
        "v2=l.array([[1], [-1j]])\n",
        "##Ingresamos los valores propios\n",
        "t1=3+2j\n",
        "t2=3-2j\n",
        "##Multiplicacion la matriz por su vector propio 1\n",
        "Av1=l.dot(A,v1)\n",
        "##Multiplicacion la matriz por su vector propio 2\n",
        "Av2=l.dot(A,v2)\n",
        "##Mulplicamos el vector por su valor propio\n",
        "t1v1=v1*t1\n",
        "##Mulplicamos el vector por su valor propio\n",
        "t2v2=v2*t2\n",
        "##Escribimos la condicio para que nos diga si el resultados es correto\n",
        "if l.all(Av1==t1v1):\n",
        "  print(\"Tu resultado es correcto para v1\")\n",
        "else:\n",
        "  print(\"Tu resultado es incorrecto para v1\")\n",
        "if l.all(Av2==t2v2):\n",
        "  print(\"Tu resultado es correcto para v2\")\n",
        "else:\n",
        "  print(\"Tu resultado es incorrecto para v2\")"
      ],
      "metadata": {
        "id": "_Jk3dg2QEbjk",
        "colab": {
          "base_uri": "https://localhost:8080/"
        },
        "outputId": "914f2e72-7d1c-4e77-cc77-8c88db0394fe"
      },
      "execution_count": null,
      "outputs": [
        {
          "output_type": "stream",
          "name": "stdout",
          "text": [
            "Tu resultado es correcto para v1\n",
            "Tu resultado es correcto para v2\n"
          ]
        }
      ]
    },
    {
      "cell_type": "code",
      "source": [
        "##Ejercicio 8 d)\n",
        "##Ingresamos la matriz A\n",
        "A=l.array([[-1, 2,2], [2, 2,2],[-3,-6,-6]])\n",
        "##Ingresamos el vector propio obtenido para \\lambda1\n",
        "v1=l.array([[1], [0],[-1]])\n",
        "##Ingresamos el vector propio obtenido para \\lambda2\n",
        "v2=l.array([[0], [1],[-1]])\n",
        "##Ingresamos el vector propio obtenido para \\lambda3\n",
        "v3=l.array([[1], [-1/2],[0]])\n",
        "##Ingresamos los valores propios\n",
        "t1=-3\n",
        "t2=0\n",
        "t3=-2\n",
        "##Multiplicacion la matriz por su vector propio 1\n",
        "Av1=l.dot(A,v1)\n",
        "##Multiplicacion la matriz por su vector propio 2\n",
        "Av2=l.dot(A,v2)\n",
        "##Multiplicacion la matriz por su vector propio 3\n",
        "Av3=l.dot(A,v3)\n",
        "##Mulplicamos el vector por su valor propio\n",
        "t1v1=v1*t1\n",
        "##Mulplicamos el vector por su valor propio\n",
        "t2v2=v2*t2\n",
        "##Mulplicamos el vector por su valor propio\n",
        "t3v3=v3*t3\n",
        "##Escribimos la condicio para que nos diga si el resultados es correto\n",
        "if l.all(Av1==t1v1):\n",
        "  print(\"Tu resultado es correcto para v1\")\n",
        "else:\n",
        "  print(\"Tu resultado es incorrecto para v1\")\n",
        "if l.all(Av2==t2v2):\n",
        "  print(\"Tu resultado es correcto para v2\")\n",
        "else:\n",
        "  print(\"Tu resultado es incorrecto para v2\")\n",
        "if l.all(Av3==t3v3):\n",
        "  print(\"Tu resultado es correcto para v3\")\n",
        "else:\n",
        "  print(\"Tu resultado es incorrecto para v3\")"
      ],
      "metadata": {
        "id": "9uI2rJk8EbnR",
        "colab": {
          "base_uri": "https://localhost:8080/"
        },
        "outputId": "8066fb96-5609-4c6c-e68b-4faeb3e64113"
      },
      "execution_count": null,
      "outputs": [
        {
          "output_type": "stream",
          "name": "stdout",
          "text": [
            "Tu resultado es correcto para v1\n",
            "Tu resultado es correcto para v2\n",
            "Tu resultado es correcto para v3\n"
          ]
        }
      ]
    },
    {
      "cell_type": "code",
      "source": [
        "##Ejercicio 8 e)\n",
        "##Ingresamos la matriz A\n",
        "A=l.array([[3, 2,1], [0, 1,2],[0,1,-1]])\n",
        "##Ingresamos el vector propio obtenido para \\lambda1\n",
        "v1=l.array([[1], [0],[0]])\n",
        "##Ingresamos el vector propio obtenido para \\lambda2\n",
        "v2=l.array([[-5.0980], [2.7320],[1]])\n",
        "##Ingresamos el vector propio obtenido para \\lambda3\n",
        "v3=l.array([[0.0980], [-0.7320],[1]])\n",
        "##Ingresamos los valores propios\n",
        "t1=3\n",
        "t2=1.7320\n",
        "t3=-1.7320\n",
        "##Multiplicacion la matriz por su vector propio 1\n",
        "Av1=l.dot(A,v1)\n",
        "##Multiplicacion la matriz por su vector propio 2\n",
        "Av2=l.dot(A,v2)\n",
        "##Multiplicacion la matriz por su vector propio 3\n",
        "Av3=l.dot(A,v3)\n",
        "##Mulplicamos el vector por su valor propio\n",
        "t1v1=v1*t1\n",
        "##Mulplicamos el vector por su valor propio\n",
        "t2v2=v2*t2\n",
        "##Mulplicamos el vector por su valor propio\n",
        "t3v3=v3*t3\n",
        "##Escribimos la condicio para que nos diga si el resultados es correto\n",
        "if l.all(Av1==t1v1):\n",
        "  print(\"Tu resultado es correcto para v1\")\n",
        "else:\n",
        "  print(\"Tu resultado es incorrecto para v1\")\n",
        "if l.all(Av2==t2v2):\n",
        "  print(\"Tu resultado es correcto para v2\")\n",
        "else:\n",
        "  print(\"Tu resultado es incorrecto para v2\")\n",
        "if l.all(Av3==t3v3):\n",
        "  print(\"Tu resultado es correcto para v3\")\n",
        "else:\n",
        "  print(\"Tu resultado es incorrecto para v3\")"
      ],
      "metadata": {
        "id": "ZBMc5XvtEbp9",
        "colab": {
          "base_uri": "https://localhost:8080/"
        },
        "outputId": "f7f92eef-bd45-401a-eece-0a1c95580bfe"
      },
      "execution_count": null,
      "outputs": [
        {
          "output_type": "stream",
          "name": "stdout",
          "text": [
            "Tu resultado es correcto para v1\n",
            "Tu resultado es incorrecto para v2\n",
            "Tu resultado es incorrecto para v3\n"
          ]
        }
      ]
    },
    {
      "cell_type": "code",
      "source": [],
      "metadata": {
        "id": "aoGUGV2PNUHG"
      },
      "execution_count": null,
      "outputs": []
    },
    {
      "cell_type": "code",
      "source": [
        "##Ejercicio 8 f)\n",
        "##Ingresamos la matriz A\n",
        "A=l.array([[-1, 4,-2], [-3, 4,0],[-3,1,3]])\n",
        "##Ingresamos el vector propio obtenido para \\lambda1\n",
        "v1=l.array([[2], [3],[3]])\n",
        "##Ingresamos el vector propio obtenido para \\lambda2\n",
        "v2=l.array([[1], [1],[1]])\n",
        "##Ingresamos el vector propio obtenido para \\lambda3\n",
        "v3=l.array([[1], [3],[4]])\n",
        "##Ingresamos los valores propios\n",
        "t1=2\n",
        "t2=1\n",
        "t3=3\n",
        "##Multiplicacion la matriz por su vector propio 1\n",
        "Av1=l.dot(A,v1)\n",
        "##Multiplicacion la matriz por su vector propio 2\n",
        "Av2=l.dot(A,v2)\n",
        "##Multiplicacion la matriz por su vector propio 3\n",
        "Av3=l.dot(A,v3)\n",
        "##Mulplicamos el vector por su valor propio\n",
        "t1v1=v1*t1\n",
        "##Mulplicamos el vector por su valor propio\n",
        "t2v2=v2*t2\n",
        "##Mulplicamos el vector por su valor propio\n",
        "t3v3=v3*t3\n",
        "##Escribimos la condicio para que nos diga si el resultados es correto\n",
        "if l.all(Av1==t1v1):\n",
        "  print(\"Tu resultado es correcto para v1\")\n",
        "else:\n",
        "  print(\"Tu resultado es incorrecto para v1\")\n",
        "if l.all(Av2==t2v2):\n",
        "  print(\"Tu resultado es correcto para v2\")\n",
        "else:\n",
        "  print(\"Tu resultado es incorrecto para v2\")\n",
        "if l.all(Av3==t3v3):\n",
        "  print(\"Tu resultado es correcto para v3\")\n",
        "else:\n",
        "  print(\"Tu resultado es incorrecto para v3\")"
      ],
      "metadata": {
        "colab": {
          "base_uri": "https://localhost:8080/"
        },
        "id": "e_p8Yvd2NUqo",
        "outputId": "0a552194-5d95-4e85-ed19-a349e6413fd9"
      },
      "execution_count": null,
      "outputs": [
        {
          "output_type": "stream",
          "name": "stdout",
          "text": [
            "Tu resultado es correcto para v1\n",
            "Tu resultado es correcto para v2\n",
            "Tu resultado es correcto para v3\n"
          ]
        }
      ]
    },
    {
      "cell_type": "markdown",
      "source": [
        "## Sección 8.3"
      ],
      "metadata": {
        "id": "dxB7LcKFEIBG"
      }
    },
    {
      "cell_type": "code",
      "source": [
        "##Ingresamos la matriz A\n",
        "A=l.array([[2, -1], [-1, 2]])\n",
        "##Calculamos Valores y Vectores Propios con la funcion lineal.eig\n",
        "valores,vectores=l.linalg.eig(A)\n",
        "##Imprimmos los valores\n",
        "valores"
      ],
      "metadata": {
        "colab": {
          "base_uri": "https://localhost:8080/"
        },
        "id": "xnaxwgyfYm_i",
        "outputId": "25ebdd50-e2fe-48e0-8dcf-f9f2566805c4"
      },
      "execution_count": null,
      "outputs": [
        {
          "output_type": "execute_result",
          "data": {
            "text/plain": [
              "array([3., 1.])"
            ]
          },
          "metadata": {},
          "execution_count": 3
        }
      ]
    },
    {
      "cell_type": "code",
      "source": [
        "##Ingresamos la matriz A\n",
        "A=l.array([[1, 1], [1, 0]])\n",
        "##Calculamos Valores y Vectores Propios con la funcion lineal.eig\n",
        "valores,vectores=l.linalg.eig(A)\n",
        "##Imprimmos los valores\n",
        "valores"
      ],
      "metadata": {
        "colab": {
          "base_uri": "https://localhost:8080/"
        },
        "outputId": "a7f2de6e-1ed2-4160-d1ec-7eb3ec2574fb",
        "id": "bQwcAbXMY3wg"
      },
      "execution_count": null,
      "outputs": [
        {
          "output_type": "execute_result",
          "data": {
            "text/plain": [
              "array([ 1.61803399, -0.61803399])"
            ]
          },
          "metadata": {},
          "execution_count": 4
        }
      ]
    },
    {
      "cell_type": "code",
      "source": [
        "##Ingresamos la matriz A\n",
        "A=l.array([[1,-1,0], [-1, 2,-1], [0, -1,1]])\n",
        "##Calculamos Valores y Vectores Propios con la funcion lineal.eig\n",
        "valores,vectores=l.linalg.eig(A)\n",
        "##Imprimmos los valores\n",
        "valores"
      ],
      "metadata": {
        "colab": {
          "base_uri": "https://localhost:8080/"
        },
        "outputId": "f1c8fd70-b5d9-4d90-caf7-2e31798316b5",
        "id": "TLZRksZjZQaR"
      },
      "execution_count": null,
      "outputs": [
        {
          "output_type": "execute_result",
          "data": {
            "text/plain": [
              "array([ 3.00000000e+00,  1.00000000e+00, -3.36770206e-17])"
            ]
          },
          "metadata": {},
          "execution_count": 5
        }
      ]
    },
    {
      "cell_type": "code",
      "source": [
        "##Ingresamos la matriz A\n",
        "A=l.array([[2,-1,0], [-1, 2,-1], [0, -1,2]])\n",
        "##Calculamos Valores y Vectores Propios con la funcion lineal.eig\n",
        "valores,vectores=l.linalg.eig(A)\n",
        "##Imprimmos los valores\n",
        "valores"
      ],
      "metadata": {
        "colab": {
          "base_uri": "https://localhost:8080/"
        },
        "outputId": "f6bfb3f4-c539-48cd-f38d-db74d8928402",
        "id": "LAg9aBbSZeMA"
      },
      "execution_count": null,
      "outputs": [
        {
          "output_type": "execute_result",
          "data": {
            "text/plain": [
              "array([3.41421356, 2.        , 0.58578644])"
            ]
          },
          "metadata": {},
          "execution_count": 6
        }
      ]
    },
    {
      "cell_type": "code",
      "source": [
        "##Ingresamos la matriz A\n",
        "A=l.array([[3,5/2], [5/2,-4]])\n",
        "##Calculamos Valores y Vectores Propios con la funcion lineal.eig\n",
        "valores,vectores=l.linalg.eig(A)\n",
        "##Imprimmos los valores\n",
        "valores"
      ],
      "metadata": {
        "colab": {
          "base_uri": "https://localhost:8080/"
        },
        "id": "7dUgaXKEa5u6",
        "outputId": "d40fb1e1-15c8-44f3-ac2a-57a05c66261c"
      },
      "execution_count": null,
      "outputs": [
        {
          "output_type": "execute_result",
          "data": {
            "text/plain": [
              "array([ 3.80116263, -4.80116263])"
            ]
          },
          "metadata": {},
          "execution_count": 7
        }
      ]
    },
    {
      "cell_type": "code",
      "source": [],
      "metadata": {
        "id": "kYdAbDlSSsR1"
      },
      "execution_count": null,
      "outputs": []
    },
    {
      "cell_type": "markdown",
      "source": [
        "## Ejercicios Examen Pasado"
      ],
      "metadata": {
        "id": "_Kzokm141-yA"
      }
    },
    {
      "cell_type": "code",
      "source": [
        "##Ingresamos la matriz A\n",
        "A=l.array([[3,2], [-1,0]])\n",
        "##Calculamos Valores y Vectores Propios con la funcion lineal.eig\n",
        "valores,vectores=l.linalg.eig(A)\n",
        "##Imprimmos los valores\n",
        "valores"
      ],
      "metadata": {
        "colab": {
          "base_uri": "https://localhost:8080/"
        },
        "id": "kA_UITMV2IJp",
        "outputId": "e79bb14d-e60c-42ea-d1ac-7e892710f6f2"
      },
      "execution_count": null,
      "outputs": [
        {
          "output_type": "execute_result",
          "data": {
            "text/plain": [
              "array([2., 1.])"
            ]
          },
          "metadata": {},
          "execution_count": 5
        }
      ]
    },
    {
      "cell_type": "code",
      "source": [
        "##Ingresamos la matriz A\n",
        "A=l.array([[1,4], [2,3]])\n",
        "##Calculamos Valores y Vectores Propios con la funcion lineal.eig\n",
        "valores,vectores=l.linalg.eig(A)\n",
        "##Imprimmos los valores\n",
        "valores"
      ],
      "metadata": {
        "colab": {
          "base_uri": "https://localhost:8080/"
        },
        "id": "UImvMZt62Kaf",
        "outputId": "cf43abcc-34cc-4fcb-f4bd-7f788e36239c"
      },
      "execution_count": null,
      "outputs": [
        {
          "output_type": "execute_result",
          "data": {
            "text/plain": [
              "array([-1.,  5.])"
            ]
          },
          "metadata": {},
          "execution_count": 6
        }
      ]
    },
    {
      "cell_type": "code",
      "source": [
        "##Ingresamos la matriz A\n",
        "A=l.array([[3, 2], [-1, 0]])\n",
        "##Ingresamos el vector propio obtenido para \\lambda1\n",
        "v1=l.array([[1], [-1/2]])\n",
        "##Ingresamos el vector propio obtenido para \\lambda2\n",
        "v2=l.array([[1], [-1]])\n",
        "##Ingresamos los valores propios\n",
        "t1=2\n",
        "t2=1\n",
        "##Multiplicacion la matriz por su vector propio 1\n",
        "Av1=l.dot(A,v1)\n",
        "##Multiplicacion la matriz por su vector propio 2\n",
        "Av2=l.dot(A,v2)\n",
        "##Mulplicamos el vector por su valor propio\n",
        "t1v1=v1*t1\n",
        "##Mulplicamos el vector por su valor propio\n",
        "t2v2=v2*t2\n",
        "##Escribimos la condicio para que nos diga si el resultados es correto\n",
        "if l.all(Av1==t1v1):\n",
        "  print(\"Tu resultado es correcto para v1\")\n",
        "else:\n",
        "  print(\"Tu resultado es incorrecto para v1\")\n",
        "if l.all(Av2==t2v2):\n",
        "  print(\"Tu resultado es correcto para v2\")\n",
        "else:\n",
        "  print(\"Tu resultado es incorrecto para v2\")"
      ],
      "metadata": {
        "colab": {
          "base_uri": "https://localhost:8080/"
        },
        "id": "TQxI7ObK2ae6",
        "outputId": "01dc6b41-6a13-4d28-998e-b3b4bee03977"
      },
      "execution_count": null,
      "outputs": [
        {
          "output_type": "stream",
          "name": "stdout",
          "text": [
            "Tu resultado es correcto para v1\n",
            "Tu resultado es correcto para v2\n"
          ]
        }
      ]
    },
    {
      "cell_type": "code",
      "source": [
        "##Ingresamos la matriz A\n",
        "A=l.array([[1, 4], [2, 3]])\n",
        "##Ingresamos el vector propio obtenido para \\lambda1\n",
        "v1=l.array([[1], [1]])\n",
        "##Ingresamos el vector propio obtenido para \\lambda2\n",
        "v2=l.array([[1], [-1/2]])\n",
        "##Ingresamos los valores propios\n",
        "t1=5\n",
        "t2=-1\n",
        "##Multiplicacion la matriz por su vector propio 1\n",
        "Av1=l.dot(A,v1)\n",
        "##Multiplicacion la matriz por su vector propio 2\n",
        "Av2=l.dot(A,v2)\n",
        "##Mulplicamos el vector por su valor propio\n",
        "t1v1=v1*t1\n",
        "##Mulplicamos el vector por su valor propio\n",
        "t2v2=v2*t2\n",
        "##Escribimos la condicio para que nos diga si el resultados es correto\n",
        "if l.all(Av1==t1v1):\n",
        "  print(\"Tu resultado es correcto para v1\")\n",
        "else:\n",
        "  print(\"Tu resultado es incorrecto para v1\")\n",
        "if l.all(Av2==t2v2):\n",
        "  print(\"Tu resultado es correcto para v2\")\n",
        "else:\n",
        "  print(\"Tu resultado es incorrecto para v2\")"
      ],
      "metadata": {
        "colab": {
          "base_uri": "https://localhost:8080/"
        },
        "id": "vhVZaHlZ2amx",
        "outputId": "011a8ab3-afaf-4c04-f4b2-5e769d0a9bb8"
      },
      "execution_count": null,
      "outputs": [
        {
          "output_type": "stream",
          "name": "stdout",
          "text": [
            "Tu resultado es correcto para v1\n",
            "Tu resultado es correcto para v2\n"
          ]
        }
      ]
    },
    {
      "cell_type": "code",
      "source": [],
      "metadata": {
        "id": "iLegEh5m2a79"
      },
      "execution_count": null,
      "outputs": []
    },
    {
      "cell_type": "code",
      "source": [],
      "metadata": {
        "id": "eTFNTOzO2bAs"
      },
      "execution_count": null,
      "outputs": []
    }
  ]
}